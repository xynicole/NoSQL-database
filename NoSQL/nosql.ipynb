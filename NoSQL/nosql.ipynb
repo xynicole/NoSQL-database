{
 "cells": [
  {
   "cell_type": "code",
   "execution_count": 85,
   "metadata": {},
   "outputs": [],
   "source": [
    "import boto3"
   ]
  },
  {
   "cell_type": "code",
   "execution_count": 86,
   "metadata": {},
   "outputs": [],
   "source": [
    "s3 = boto3.resource('s3',\n",
    "    aws_access_key_id='hidden',\n",
    "    aws_secret_access_key='hidden'\n",
    ")"
   ]
  },
  {
   "cell_type": "code",
   "execution_count": 87,
   "metadata": {},
   "outputs": [
    {
     "name": "stdout",
     "output_type": "stream",
     "text": [
      "An error occurred (BucketAlreadyOwnedByYou) when calling the CreateBucket operation: Your previous request to create the named bucket succeeded and you already own it.\n"
     ]
    }
   ],
   "source": [
    "try:\n",
    " s3.create_bucket(Bucket='xih82hw3-bucket', CreateBucketConfiguration={\n",
    " 'LocationConstraint': 'us-west-2'})\n",
    "except Exception as e:\n",
    " print (e)"
   ]
  },
  {
   "cell_type": "code",
   "execution_count": 88,
   "metadata": {},
   "outputs": [
    {
     "data": {
      "text/plain": [
       "{'ResponseMetadata': {'RequestId': '98H5NDT28EVDR9GR',\n",
       "  'HostId': 'LpCgg5rqodIsMdD9M1qK4yDxBPFyt6X79lARP8MKlFnBADuodAVaoU/Im13gG6n7T+7d5TFMEGA=',\n",
       "  'HTTPStatusCode': 200,\n",
       "  'HTTPHeaders': {'x-amz-id-2': 'LpCgg5rqodIsMdD9M1qK4yDxBPFyt6X79lARP8MKlFnBADuodAVaoU/Im13gG6n7T+7d5TFMEGA=',\n",
       "   'x-amz-request-id': '98H5NDT28EVDR9GR',\n",
       "   'date': 'Mon, 25 Oct 2021 22:44:18 GMT',\n",
       "   'server': 'AmazonS3',\n",
       "   'content-length': '0'},\n",
       "  'RetryAttempts': 1}}"
      ]
     },
     "execution_count": 88,
     "metadata": {},
     "output_type": "execute_result"
    }
   ],
   "source": [
    "bucket = s3.Bucket(\"xih82hw3-bucket\")\n",
    "bucket.Acl().put(ACL='public-read')"
   ]
  },
  {
   "cell_type": "code",
   "execution_count": 89,
   "metadata": {},
   "outputs": [
    {
     "data": {
      "text/plain": [
       "{'ResponseMetadata': {'RequestId': 'QDG2DQAQDMV310YS',\n",
       "  'HostId': 'GlNdNy1VhWNjT9CUKRCDsBwAUDYHqHm0J0aS3LuNQC5SLXaH8D6bSDMcXT0ATH50WwJxmUJuU8s=',\n",
       "  'HTTPStatusCode': 200,\n",
       "  'HTTPHeaders': {'x-amz-id-2': 'GlNdNy1VhWNjT9CUKRCDsBwAUDYHqHm0J0aS3LuNQC5SLXaH8D6bSDMcXT0ATH50WwJxmUJuU8s=',\n",
       "   'x-amz-request-id': 'QDG2DQAQDMV310YS',\n",
       "   'date': 'Mon, 25 Oct 2021 22:44:19 GMT',\n",
       "   'server': 'AmazonS3',\n",
       "   'content-length': '0'},\n",
       "  'RetryAttempts': 0}}"
      ]
     },
     "execution_count": 89,
     "metadata": {},
     "output_type": "execute_result"
    }
   ],
   "source": [
    "body = open('exp1.csv', 'rb')\n",
    "\n",
    "o = s3.Object('xih82hw3-bucket', 'exp1').put(Body=body )\n",
    "s3.Object('xih82hw3-bucket', 'exp1').Acl().put(ACL='public-read')"
   ]
  },
  {
   "cell_type": "code",
   "execution_count": 90,
   "metadata": {},
   "outputs": [
    {
     "data": {
      "text/plain": [
       "{'ResponseMetadata': {'RequestId': 'QDGCY0H5RG5SQGR2',\n",
       "  'HostId': 'Du8/TE/wGQpw5MeILBDeLOP7tEASQKZiLfr/wLE/dQUVjqpvI+vOEOus9UV97LLLDSsiAs3fpoE=',\n",
       "  'HTTPStatusCode': 200,\n",
       "  'HTTPHeaders': {'x-amz-id-2': 'Du8/TE/wGQpw5MeILBDeLOP7tEASQKZiLfr/wLE/dQUVjqpvI+vOEOus9UV97LLLDSsiAs3fpoE=',\n",
       "   'x-amz-request-id': 'QDGCY0H5RG5SQGR2',\n",
       "   'date': 'Mon, 25 Oct 2021 22:44:19 GMT',\n",
       "   'server': 'AmazonS3',\n",
       "   'content-length': '0'},\n",
       "  'RetryAttempts': 0}}"
      ]
     },
     "execution_count": 90,
     "metadata": {},
     "output_type": "execute_result"
    }
   ],
   "source": [
    "body = open('exp2.csv', 'rb')\n",
    "\n",
    "o = s3.Object('xih82hw3-bucket', 'exp2').put(Body=body )\n",
    "s3.Object('xih82hw3-bucket', 'exp2').Acl().put(ACL='public-read')\n"
   ]
  },
  {
   "cell_type": "code",
   "execution_count": 91,
   "metadata": {},
   "outputs": [
    {
     "data": {
      "text/plain": [
       "{'ResponseMetadata': {'RequestId': '6A4E5V874NZ5KCDS',\n",
       "  'HostId': '5nZNZpkYFtf17QrPLCqXMPt3QFuzQCAd2ylJ1z9gR/CW8MGDEVLCM6LeBqGxq9ERWQRNpI9hqXM=',\n",
       "  'HTTPStatusCode': 200,\n",
       "  'HTTPHeaders': {'x-amz-id-2': '5nZNZpkYFtf17QrPLCqXMPt3QFuzQCAd2ylJ1z9gR/CW8MGDEVLCM6LeBqGxq9ERWQRNpI9hqXM=',\n",
       "   'x-amz-request-id': '6A4E5V874NZ5KCDS',\n",
       "   'date': 'Mon, 25 Oct 2021 22:44:20 GMT',\n",
       "   'server': 'AmazonS3',\n",
       "   'content-length': '0'},\n",
       "  'RetryAttempts': 0}}"
      ]
     },
     "execution_count": 91,
     "metadata": {},
     "output_type": "execute_result"
    }
   ],
   "source": [
    "body = open('exp3.csv', 'rb')\n",
    "\n",
    "o = s3.Object('xih82hw3-bucket', 'exp3').put(Body=body )\n",
    "s3.Object('xih82hw3-bucket', 'exp3').Acl().put(ACL='public-read')"
   ]
  },
  {
   "cell_type": "code",
   "execution_count": 92,
   "metadata": {},
   "outputs": [
    {
     "data": {
      "text/plain": [
       "{'ResponseMetadata': {'RequestId': '6A4FPF1GS461BB8J',\n",
       "  'HostId': '9ggD4DsXYtOQcpMaj9xi5ES7c0h32VUbsscEKZFeho5AF8G2yiLcx8XHM7137RGqyWHUyIQEqMs=',\n",
       "  'HTTPStatusCode': 200,\n",
       "  'HTTPHeaders': {'x-amz-id-2': '9ggD4DsXYtOQcpMaj9xi5ES7c0h32VUbsscEKZFeho5AF8G2yiLcx8XHM7137RGqyWHUyIQEqMs=',\n",
       "   'x-amz-request-id': '6A4FPF1GS461BB8J',\n",
       "   'date': 'Mon, 25 Oct 2021 22:44:20 GMT',\n",
       "   'server': 'AmazonS3',\n",
       "   'content-length': '0'},\n",
       "  'RetryAttempts': 0}}"
      ]
     },
     "execution_count": 92,
     "metadata": {},
     "output_type": "execute_result"
    }
   ],
   "source": [
    "body = open('experiments.csv', 'rb')\n",
    "\n",
    "o = s3.Object('xih82hw3-bucket', 'experiments').put(Body=body )\n",
    "s3.Object('xih82hw3-bucket', 'experiments').Acl().put(ACL='public-read')"
   ]
  },
  {
   "cell_type": "code",
   "execution_count": 93,
   "metadata": {},
   "outputs": [],
   "source": [
    "dyndb = boto3.resource('dynamodb',\n",
    " region_name='us-west-2',\n",
    " aws_access_key_id='hidden',\n",
    " aws_secret_access_key='hidden'\n",
    ")"
   ]
  },
  {
   "cell_type": "code",
   "execution_count": 94,
   "metadata": {},
   "outputs": [
    {
     "name": "stdout",
     "output_type": "stream",
     "text": [
      "An error occurred (ResourceInUseException) when calling the CreateTable operation: Table already exists: DataTable\n"
     ]
    }
   ],
   "source": [
    "try:\n",
    "    table = dyndb.create_table(\n",
    "        TableName='DataTable',\n",
    "        KeySchema=[\n",
    "            {\n",
    "                'AttributeName': 'PartitionKey',\n",
    "                'KeyType': 'HASH'\n",
    "            },\n",
    "            {\n",
    "                'AttributeName': 'RowKey',\n",
    "                'KeyType': 'RANGE'\n",
    "            }\n",
    "        ],\n",
    "        AttributeDefinitions=[\n",
    "            {\n",
    "                'AttributeName': 'PartitionKey',\n",
    "                'AttributeType': 'S'\n",
    "            },\n",
    "            {\n",
    "                'AttributeName': 'RowKey',\n",
    "                'AttributeType': 'S'\n",
    "            },\n",
    "        ],\n",
    "        ProvisionedThroughput={\n",
    "            'ReadCapacityUnits': 5,\n",
    "            'WriteCapacityUnits': 5\n",
    "        }\n",
    "    )\n",
    "except Exception as e:\n",
    "    print (e)\n",
    "    table = dyndb.Table(\"DataTable\")"
   ]
  },
  {
   "cell_type": "code",
   "execution_count": 95,
   "metadata": {},
   "outputs": [],
   "source": [
    "table.meta.client.get_waiter('table_exists').wait(TableName='DataTable')\n"
   ]
  },
  {
   "cell_type": "code",
   "execution_count": 96,
   "metadata": {},
   "outputs": [
    {
     "name": "stdout",
     "output_type": "stream",
     "text": [
      "0\n"
     ]
    }
   ],
   "source": [
    "print(table.item_count)"
   ]
  },
  {
   "cell_type": "code",
   "execution_count": 97,
   "metadata": {},
   "outputs": [],
   "source": [
    "\n",
    "import csv"
   ]
  },
  {
   "cell_type": "code",
   "execution_count": 108,
   "metadata": {},
   "outputs": [
    {
     "name": "stdout",
     "output_type": "stream",
     "text": [
      "['1', '-1', '52', '3.4', 'exp1.csv']\n",
      "['2', '-2', '52.1', '3.4', 'exp2.csv']\n",
      "['3', '-2.93', '57.1', '3.7', 'exp3.csv']\n"
     ]
    }
   ],
   "source": [
    "with open('experiments.csv', 'r') as csvfile:\n",
    "    csvf = csv.reader(csvfile, delimiter=',', quotechar='|')\n",
    "    next(csvf)\n",
    "    for item in csvf:\n",
    "        print(item)\n",
    "        body = open(item[4], 'rb') \n",
    "        s3.Object('xih82hw3-bucket', item[4]).put(Body=body ) \n",
    "        md = s3.Object('xih82hw3-bucket', item[4]).Acl().put(ACL='public-read')\n",
    "\n",
    "        url = \" https://s3-us-west-2.amazonaws.com/xih82hw3-bucket/\"+item[4]\n",
    "        metadata_item = {'PartitionKey': item[4], 'RowKey': item[0],'Temp': item[1],\n",
    "        'Concentration' : item[3], 'Conductivity' : item[2], 'url':url}\n",
    "        try:\n",
    "            table.put_item(Item=metadata_item)\n",
    "        except:\n",
    "            print(\"item may already be there or another failure\")"
   ]
  },
  {
   "cell_type": "code",
   "execution_count": 110,
   "metadata": {},
   "outputs": [
    {
     "name": "stdout",
     "output_type": "stream",
     "text": [
      "{'Temp': '-1', 'RowKey': '1', 'Conductivity': '52', 'Concentration': '3.4', 'PartitionKey': 'exp1.csv', 'url': ' https://s3-us-west-2.amazonaws.com/xih82hw3-bucket/exp1.csv'}\n"
     ]
    }
   ],
   "source": [
    "response = table.get_item(\n",
    "    Key={\n",
    "        'PartitionKey': 'exp1.csv',\n",
    "        'RowKey': '1'\n",
    "        }\n",
    ")\n",
    "item = response['Item']\n",
    "print(item)"
   ]
  },
  {
   "cell_type": "code",
   "execution_count": 111,
   "metadata": {},
   "outputs": [
    {
     "data": {
      "text/plain": [
       "{'Item': {'Temp': '-1',\n",
       "  'RowKey': '1',\n",
       "  'Conductivity': '52',\n",
       "  'Concentration': '3.4',\n",
       "  'PartitionKey': 'exp1.csv',\n",
       "  'url': ' https://s3-us-west-2.amazonaws.com/xih82hw3-bucket/exp1.csv'},\n",
       " 'ResponseMetadata': {'RequestId': 'SS3QRGQQ58A73DR2V7V02LNRLVVV4KQNSO5AEMVJF66Q9ASUAAJG',\n",
       "  'HTTPStatusCode': 200,\n",
       "  'HTTPHeaders': {'server': 'Server',\n",
       "   'date': 'Tue, 26 Oct 2021 00:13:10 GMT',\n",
       "   'content-type': 'application/x-amz-json-1.0',\n",
       "   'content-length': '208',\n",
       "   'connection': 'keep-alive',\n",
       "   'x-amzn-requestid': 'SS3QRGQQ58A73DR2V7V02LNRLVVV4KQNSO5AEMVJF66Q9ASUAAJG',\n",
       "   'x-amz-crc32': '3856853506'},\n",
       "  'RetryAttempts': 0}}"
      ]
     },
     "execution_count": 111,
     "metadata": {},
     "output_type": "execute_result"
    }
   ],
   "source": [
    "response"
   ]
  }
 ],
 "metadata": {
  "interpreter": {
   "hash": "b0fa6594d8f4cbf19f97940f81e996739fb7646882a419484c72d19e05852a7e"
  },
  "kernelspec": {
   "display_name": "Python 3.9.7 64-bit",
   "name": "python3"
  },
  "language_info": {
   "codemirror_mode": {
    "name": "ipython",
    "version": 3
   },
   "file_extension": ".py",
   "mimetype": "text/x-python",
   "name": "python",
   "nbconvert_exporter": "python",
   "pygments_lexer": "ipython3",
   "version": "3.9.7"
  },
  "orig_nbformat": 4
 },
 "nbformat": 4,
 "nbformat_minor": 2
}
